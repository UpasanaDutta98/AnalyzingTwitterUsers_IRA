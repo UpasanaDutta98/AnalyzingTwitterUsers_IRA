{
 "cells": [
  {
   "cell_type": "code",
   "execution_count": 2,
   "metadata": {
    "collapsed": true
   },
   "outputs": [],
   "source": [
    "## Use only for forcing a number onto index_tweet_only.csv file\n",
    "'''index_for_tweet = pd.DataFrame()\n",
    "indexList = [106]\n",
    "index_for_tweet['index'] = indexList\n",
    "index_for_tweet.to_csv('index_tweet_only.csv', index = False, header = False)'''"
   ]
  },
  {
   "cell_type": "code",
   "execution_count": 2,
   "metadata": {
    "collapsed": true
   },
   "outputs": [],
   "source": [
    "import csv\n",
    "import twint\n",
    "import time\n",
    "import pandas as pd"
   ]
  },
  {
   "cell_type": "code",
   "execution_count": 3,
   "metadata": {
    "collapsed": true
   },
   "outputs": [],
   "source": [
    "starting_index = 0\n",
    "count = 0\n",
    "\n",
    "def convert(s):\n",
    "    new = \"\"\n",
    "    for x in s:\n",
    "        new += x\n",
    "    return new"
   ]
  },
  {
   "cell_type": "code",
   "execution_count": 4,
   "metadata": {
    "collapsed": true
   },
   "outputs": [],
   "source": [
    "# Important \n",
    "with open('index_tweet_only.csv') as index_file:\n",
    "    read_index = csv.reader(index_file, delimiter=',')\n",
    "    for row in read_index:\n",
    "        starting_index = int(convert(row))\n",
    "index_file.close()"
   ]
  },
  {
   "cell_type": "code",
   "execution_count": 5,
   "metadata": {},
   "outputs": [
    {
     "data": {
      "text/plain": [
       "359"
      ]
     },
     "execution_count": 5,
     "metadata": {},
     "output_type": "execute_result"
    }
   ],
   "source": [
    "starting_index"
   ]
  },
  {
   "cell_type": "code",
   "execution_count": null,
   "metadata": {},
   "outputs": [
    {
     "name": "stdout",
     "output_type": "stream",
     "text": [
      "User: iBeSuckaFree [284] starting....\n"
     ]
    },
    {
     "name": "stderr",
     "output_type": "stream",
     "text": [
      "CRITICAL:root:twint.run:Twint:Feed:noDataExpecting value: line 1 column 1 (char 0)\n"
     ]
    },
    {
     "name": "stdout",
     "output_type": "stream",
     "text": [
      "Done User: iBeSuckaFree [284] with 433088 rows in 264.3604240457217 mins\n",
      "User: DmB_Ekb [285] starting....\n",
      "Done User: DmB_Ekb [285] with 75517 rows in 49.88082365592321 mins\n",
      "User: AGary8 [286] starting....\n",
      "Done User: AGary8 [286] with 22435 rows in 14.128737862904867 mins\n",
      "User: geegimoto [287] starting....\n",
      "Done User: geegimoto [287] with 6178 rows in 4.185923075675964 mins\n",
      "User: interrkosmos [288] starting....\n",
      "\n",
      "File not created\n",
      "\n",
      "User: msiamastar [289] starting....\n",
      "Done User: msiamastar [289] with 7684 rows in 5.346189181009929 mins\n",
      "User: aprildeming [290] starting....\n"
     ]
    },
    {
     "name": "stderr",
     "output_type": "stream",
     "text": [
      "CRITICAL:root:twint.run:Twint:Feed:noDataExpecting value: line 1 column 1 (char 0)\n"
     ]
    },
    {
     "name": "stdout",
     "output_type": "stream",
     "text": [
      "Done User: aprildeming [290] with 51273 rows in 37.85554420550664 mins\n",
      "User: KAZANQUEEN [291] starting....\n",
      "Done User: KAZANQUEEN [291] with 9367 rows in 5.4535355766614275 mins\n",
      "User: _saintkokos_ [292] starting....\n",
      "\n",
      "File not created\n",
      "\n",
      "User: lierr_A [293] starting....\n",
      "Done User: lierr_A [293] with 20132 rows in 12.659096105893452 mins\n",
      "User: Makakarich [294] starting....\n",
      "Done User: Makakarich [294] with 14779 rows in 8.548900703589121 mins\n",
      "User: vaikule [295] starting....\n",
      "Done User: vaikule [295] with 944 rows in 0.6152881383895874 mins\n",
      "User: Whatwasthat101 [296] starting....\n",
      "Done User: Whatwasthat101 [296] with 10505 rows in 6.939608693122864 mins\n",
      "User: Five_dozen [297] starting....\n",
      "Done User: Five_dozen [297] with 17005 rows in 9.952260875701905 mins\n",
      "User: grosby81 [298] starting....\n",
      "Done User: grosby81 [298] with 27289 rows in 15.18190937836965 mins\n",
      "User: shkepper [299] starting....\n"
     ]
    },
    {
     "name": "stderr",
     "output_type": "stream",
     "text": [
      "CRITICAL:root:twint.get:User:'NoneType' object is not subscriptable\n"
     ]
    },
    {
     "name": "stdout",
     "output_type": "stream",
     "text": [
      "Done User: shkepper [299] with 7466 rows in 4.417842559019724 mins\n",
      "User: zwouq [300] starting....\n",
      "\n",
      "File not created\n",
      "\n",
      "User: Hereditarian98 [301] starting....\n",
      "Done User: Hereditarian98 [301] with 11975 rows in 7.480064288775126 mins\n",
      "User: Bo4ka_m3da [302] starting....\n",
      "\n",
      "File not created\n",
      "\n",
      "User: puppetit [303] starting....\n",
      "\n",
      "File not created\n",
      "\n",
      "User: 0bscurantism [304] starting....\n",
      "Done User: 0bscurantism [304] with 122 rows in 0.09510813156763713 mins\n",
      "User: yennefurrr [305] starting....\n",
      "\n",
      "File not created\n",
      "\n",
      "User: N_n_Shevchenko [306] starting....\n",
      "Done User: N_n_Shevchenko [306] with 11478 rows in 6.539337706565857 mins\n",
      "User: Olegzo44 [307] starting....\n",
      "Done User: Olegzo44 [307] with 7222 rows in 4.122409415245056 mins\n",
      "User: DavidTorres1235 [308] starting....\n",
      "Done User: DavidTorres1235 [308] with 463 rows in 0.2854195753733317 mins\n",
      "User: brilliant_alya [309] starting....\n",
      "\n",
      "User not found \n",
      "\n",
      "User: Evelynscott25 [310] starting....\n",
      "Done User: Evelynscott25 [310] with 1962 rows in 1.1377868493398031 mins\n",
      "User: OlgaKorovchenko [311] starting....\n",
      "Done User: OlgaKorovchenko [311] with 32655 rows in 19.76609726746877 mins\n",
      "User: Lefski [312] starting....\n",
      "Done User: Lefski [312] with 5728 rows in 3.2062972744305926 mins\n",
      "User: cat_philosophic [313] starting....\n"
     ]
    },
    {
     "name": "stderr",
     "output_type": "stream",
     "text": [
      "CRITICAL:root:twint.run:Twint:Feed:noDataExpecting value: line 1 column 1 (char 0)\n"
     ]
    },
    {
     "name": "stdout",
     "output_type": "stream",
     "text": [
      "Done User: cat_philosophic [313] with 6536 rows in 4.285798406600952 mins\n",
      "User: SamIsGonzo1978 [314] starting....\n",
      "Done User: SamIsGonzo1978 [314] with 2958 rows in 1.7039310495058695 mins\n",
      "User: guarino_carolyn [315] starting....\n",
      "Done User: guarino_carolyn [315] with 11877 rows in 6.798480407396952 mins\n",
      "User: clabastide87 [316] starting....\n",
      "Done User: clabastide87 [316] with 1616 rows in 0.9069569309552511 mins\n",
      "User: EvGen1954 [317] starting....\n",
      "Done User: EvGen1954 [317] with 30099 rows in 19.51334638595581 mins\n",
      "User: lost1nmymind [318] starting....\n",
      "Done User: lost1nmymind [318] with 22602 rows in 12.166562926769256 mins\n",
      "User: MSiltchenko [319] starting....\n",
      "Done User: MSiltchenko [319] with 10708 rows in 6.400677982966105 mins\n",
      "User: Skalli1961 [320] starting....\n",
      "Done User: Skalli1961 [320] with 26176 rows in 15.419974295298259 mins\n",
      "User: quisdaboss33 [321] starting....\n",
      "Done User: quisdaboss33 [321] with 95422 rows in 56.31420514583588 mins\n",
      "User: EqualMusicFacts [322] starting....\n",
      "Done User: EqualMusicFacts [322] with 102 rows in 0.07862373987833658 mins\n",
      "User: Okulovguivicnam [323] starting....\n"
     ]
    },
    {
     "name": "stderr",
     "output_type": "stream",
     "text": [
      "CRITICAL:root:twint.run:Twint:Feed:noDataExpecting value: line 1 column 1 (char 0)\n"
     ]
    },
    {
     "name": "stdout",
     "output_type": "stream",
     "text": [
      "Done User: Okulovguivicnam [323] with 4948 rows in 3.316721526781718 mins\n",
      "User: aurorab933 [324] starting....\n",
      "Done User: aurorab933 [324] with 34887 rows in 23.248747158050538 mins\n",
      "User: QueenofDrkns [325] starting....\n"
     ]
    },
    {
     "name": "stderr",
     "output_type": "stream",
     "text": [
      "CRITICAL:root:twint.run:Twint:Feed:noDataExpecting value: line 1 column 1 (char 0)\n",
      "CRITICAL:root:twint.run:Twint:Feed:noDataExpecting value: line 1 column 1 (char 0)\n",
      "CRITICAL:root:twint.run:Twint:Feed:noDataExpecting value: line 1 column 1 (char 0)\n"
     ]
    },
    {
     "name": "stdout",
     "output_type": "stream",
     "text": [
      "Done User: QueenofDrkns [325] with 30558 rows in 18.81799108584722 mins\n",
      "User: ksbyron [326] starting....\n",
      "Done User: ksbyron [326] with 12631 rows in 8.11076204776764 mins\n",
      "User: jsochi [327] starting....\n"
     ]
    },
    {
     "name": "stderr",
     "output_type": "stream",
     "text": [
      "CRITICAL:root:twint.run:Twint:Feed:noDataExpecting value: line 1 column 1 (char 0)\n"
     ]
    },
    {
     "name": "stdout",
     "output_type": "stream",
     "text": [
      "Done User: jsochi [327] with 16305 rows in 10.029318010807037 mins\n",
      "User: jimeall1 [328] starting....\n",
      "Done User: jimeall1 [328] with 13795 rows in 8.327466201782226 mins\n",
      "User: deennndee [329] starting....\n",
      "Done User: deennndee [329] with 4026 rows in 2.1635334491729736 mins\n",
      "User: redrabbitsnpow2 [330] starting....\n",
      "Done User: redrabbitsnpow2 [330] with 2834 rows in 2.024815817674001 mins\n",
      "User: Rigsector [331] starting....\n",
      "Done User: Rigsector [331] with 43695 rows in 28.520554784933726 mins\n",
      "User: asspirin12 [332] starting....\n",
      "Done User: asspirin12 [332] with 560 rows in 0.3867155154546102 mins\n",
      "User: Shenni_Ech [333] starting....\n",
      "Done User: Shenni_Ech [333] with 17294 rows in 9.613550571600596 mins\n",
      "User: manniefeathers6 [334] starting....\n",
      "Done User: manniefeathers6 [334] with 3971 rows in 2.3638203779856366 mins\n",
      "User: iJonesYou [335] starting....\n",
      "Done User: iJonesYou [335] with 9404 rows in 5.243173058827718 mins\n",
      "User: FederalPress [336] starting....\n",
      "Done User: FederalPress [336] with 65494 rows in 41.38530505895615 mins\n",
      "User: ginestracey [337] starting....\n",
      "\n",
      "File not created\n",
      "\n",
      "User: CoryLHughes [338] starting....\n",
      "Done User: CoryLHughes [338] with 3522 rows in 2.696135147412618 mins\n",
      "User: Kimllg88 [339] starting....\n",
      "Done User: Kimllg88 [339] with 11442 rows in 7.270093754927317 mins\n",
      "User: Marlo_riz [340] starting....\n",
      "Done User: Marlo_riz [340] with 597 rows in 0.41801813840866087 mins\n",
      "User: SERGEY_SAVENKO [341] starting....\n",
      "Done User: SERGEY_SAVENKO [341] with 16775 rows in 10.439707946777343 mins\n",
      "User: alinak24 [342] starting....\n",
      "Done User: alinak24 [342] with 6513 rows in 3.8557440439860025 mins\n",
      "User: Borisenkopropin [343] starting....\n",
      "Done User: Borisenkopropin [343] with 4920 rows in 2.7776360193888348 mins\n",
      "User: Serg_Chistyak [344] starting....\n",
      "Done User: Serg_Chistyak [344] with 3359 rows in 2.1833434184392293 mins\n",
      "User: Shilov69 [345] starting....\n",
      "Done User: Shilov69 [345] with 8358 rows in 5.424133467674255 mins\n",
      "User: blyn7 [346] starting....\n",
      "Done User: blyn7 [346] with 11073 rows in 6.612049504121145 mins\n",
      "User: BeardWalaChokra [347] starting....\n"
     ]
    },
    {
     "name": "stderr",
     "output_type": "stream",
     "text": [
      "CRITICAL:root:twint.run:Twint:Feed:noDataExpecting value: line 1 column 1 (char 0)\n"
     ]
    },
    {
     "name": "stdout",
     "output_type": "stream",
     "text": [
      "Done User: BeardWalaChokra [347] with 8718 rows in 5.027932647864024 mins\n",
      "User: TsatMesec [348] starting....\n"
     ]
    },
    {
     "name": "stderr",
     "output_type": "stream",
     "text": [
      "CRITICAL:root:twint.run:Twint:Feed:noDataExpecting value: line 1 column 1 (char 0)\n",
      "CRITICAL:root:twint.run:Twint:Feed:noDataExpecting value: line 1 column 1 (char 0)\n",
      "CRITICAL:root:twint.run:Twint:Feed:noDataExpecting value: line 1 column 1 (char 0)\n",
      "CRITICAL:root:twint.run:Twint:Feed:noDataExpecting value: line 1 column 1 (char 0)\n"
     ]
    },
    {
     "name": "stdout",
     "output_type": "stream",
     "text": [
      "Done User: TsatMesec [348] with 10574 rows in 7.106535764535268 mins\n",
      "User: epsilona01 [349] starting....\n"
     ]
    },
    {
     "name": "stderr",
     "output_type": "stream",
     "text": [
      "CRITICAL:root:twint.run:Twint:Feed:noDataExpecting value: line 1 column 1 (char 0)\n"
     ]
    },
    {
     "name": "stdout",
     "output_type": "stream",
     "text": [
      "Done User: epsilona01 [349] with 7067 rows in 4.696307182312012 mins\n",
      "User: UartKhv [350] starting....\n",
      "\n",
      "File not created\n",
      "\n",
      "User: peter_garin [351] starting....\n",
      "Done User: peter_garin [351] with 13812 rows in 8.378353397051493 mins\n",
      "User: DimaJeddah [352] starting....\n",
      "Done User: DimaJeddah [352] with 6934 rows in 4.483365098635356 mins\n",
      "User: AxholetheGreat [353] starting....\n",
      "Done User: AxholetheGreat [353] with 63216 rows in 39.41417594353358 mins\n",
      "User: ctemp153 [354] starting....\n",
      "Done User: ctemp153 [354] with 20934 rows in 14.620211025079092 mins\n",
      "User: tacoeater [355] starting....\n",
      "Done User: tacoeater [355] with 48390 rows in 28.577923083305357 mins\n",
      "User: S55555555 [356] starting....\n",
      "Done User: S55555555 [356] with 32695 rows in 21.0359441836675 mins\n",
      "User: zaratistRUS [357] starting....\n",
      "Done User: zaratistRUS [357] with 30223 rows in 18.977605517705282 mins\n",
      "User: bad_robot_57 [358] starting....\n"
     ]
    },
    {
     "name": "stderr",
     "output_type": "stream",
     "text": [
      "CRITICAL:root:twint.run:Twint:Feed:noDataExpecting value: line 1 column 1 (char 0)\n"
     ]
    },
    {
     "name": "stdout",
     "output_type": "stream",
     "text": [
      "Done User: bad_robot_57 [358] with 72251 rows in 50.6590337117513 mins\n",
      "User: alena_ai [359] starting....\n",
      "Done User: alena_ai [359] with 1600 rows in 0.955964187781016 mins\n",
      "User: exxtragalactic [360] starting....\n"
     ]
    }
   ],
   "source": [
    "usernotfound_count = 0\n",
    "with open('test.csv') as csv_file:\n",
    "    read_csv = csv.reader(csv_file, delimiter=',')\n",
    "    initial_time = time.time()\n",
    "    for row in read_csv:\n",
    "        if count >= starting_index:\n",
    "            print(\"User: {} [{}] starting....\".format(row[0], count+1))\n",
    "            c = twint.Config()\n",
    "            c.Username = row[0]\n",
    "            c.Store_csv = True\n",
    "            c.Output = \"UserData/TweetOnly/\"+row[0]+\"_tweet_only.csv\"\n",
    "            c.Hide_output = True\n",
    "            try:\n",
    "                twint.run.Search(c)\n",
    "                final_time = time.time()\n",
    "                secs = final_time - initial_time\n",
    "                try:\n",
    "                    tweetOnly_csv = pd.read_csv(c.Output, low_memory=False)\n",
    "                    length = tweetOnly_csv.shape[0]\n",
    "                    print(\"Done User: {} [{}] with {} rows in {} mins\".format(row[0], count+1, length, secs/60))\n",
    "                except:\n",
    "                    print('\\nFile not created\\n') \n",
    "            except:\n",
    "                print('\\nUser not found \\n')\n",
    "            initial_time = time.time()\n",
    "        count += 1\n",
    "        with open('index_tweet_only.csv', 'w') as index_file_out:\n",
    "            write_index = csv.writer(index_file_out)\n",
    "            write_index.writerow(str(count))\n",
    "            \n",
    "index_file_out.close()\n",
    "csv_file.close()"
   ]
  },
  {
   "cell_type": "code",
   "execution_count": null,
   "metadata": {
    "collapsed": true
   },
   "outputs": [],
   "source": []
  },
  {
   "cell_type": "code",
   "execution_count": null,
   "metadata": {
    "collapsed": true
   },
   "outputs": [],
   "source": []
  },
  {
   "cell_type": "code",
   "execution_count": null,
   "metadata": {
    "collapsed": true
   },
   "outputs": [],
   "source": []
  },
  {
   "cell_type": "code",
   "execution_count": null,
   "metadata": {
    "collapsed": true
   },
   "outputs": [],
   "source": []
  }
 ],
 "metadata": {
  "kernelspec": {
   "display_name": "Python 3",
   "language": "python",
   "name": "python3"
  },
  "language_info": {
   "codemirror_mode": {
    "name": "ipython",
    "version": 3
   },
   "file_extension": ".py",
   "mimetype": "text/x-python",
   "name": "python",
   "nbconvert_exporter": "python",
   "pygments_lexer": "ipython3",
   "version": "3.6.3"
  }
 },
 "nbformat": 4,
 "nbformat_minor": 2
}
