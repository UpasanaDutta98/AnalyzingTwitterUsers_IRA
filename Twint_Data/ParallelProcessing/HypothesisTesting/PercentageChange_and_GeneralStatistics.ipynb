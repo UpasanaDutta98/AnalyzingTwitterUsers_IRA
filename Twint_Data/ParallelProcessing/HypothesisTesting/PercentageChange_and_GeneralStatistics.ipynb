{
 "cells": [
  {
   "cell_type": "code",
   "execution_count": 26,
   "metadata": {
    "collapsed": true
   },
   "outputs": [],
   "source": [
    "import pandas as pd\n",
    "\n",
    "def percentage_change(FullDataframe, column_name):\n",
    "    beforeFirstContact_Value = []\n",
    "    afterFirstContact_Value = []\n",
    "    AllUsersCounts_before1 = list(FullDataframe['before_'+column_name+'1'])\n",
    "    \n",
    "    AllUsersCounts_after1 = list(FullDataframe['after_'+column_name+'1'])\n",
    "    \n",
    "    \n",
    "\n",
    "    for eachuser_value in AllUsersCounts_before1:\n",
    "        beforeFirstContact_Value.append(eachuser_value)\n",
    "        \n",
    "    for eachuser_value in AllUsersCounts_after1:\n",
    "        afterFirstContact_Value.append(eachuser_value)\n",
    "        \n",
    "    #print(len(beforeFirstContact_Value))\n",
    "    average_before = sum(beforeFirstContact_Value) / len(beforeFirstContact_Value)\n",
    "    average_after = sum(afterFirstContact_Value) / len(afterFirstContact_Value)\n",
    "    \n",
    "    fraction_change = (average_after-average_before)/average_before\n",
    "    percentage_change = fraction_change*100\n",
    "    \n",
    "    #print(average_before, average_after)\n",
    "    print(\"Percentage from before to after = \", round(percentage_change,2),\"%.\")\n",
    " "
   ]
  },
  {
   "cell_type": "code",
   "execution_count": 27,
   "metadata": {
    "collapsed": true
   },
   "outputs": [],
   "source": [
    "def import_Users_AllData(csv_filename):\n",
    "    FullDataframe = pd.read_csv(csv_filename)\n",
    "    print(\"shape = \", FullDataframe.shape)\n",
    "    print(\"column names = \", list(FullDataframe.columns))\n",
    "    print(\"\\n\")\n",
    "    return FullDataframe\n",
    "    #print(FullDataframe.head())\n",
    "    \n",
    "def remove_users(AllData_dataframe, remove_filename):\n",
    "    UsersToRemove = pd.read_csv(remove_filename)\n",
    "    AllUsers = AllData_dataframe['username']\n",
    "    print(\"Before removing, shape of dataframe = \", AllData_dataframe.shape)\n",
    "    UsersToBeRemoved = list(UsersToRemove['username'])\n",
    "    \n",
    "    ### Now removing\n",
    "    i = 0\n",
    "    for eachuser in AllUsers:\n",
    "        if eachuser in UsersToBeRemoved:\n",
    "            AllData_dataframe = AllData_dataframe.drop(i)\n",
    "        i+=1\n",
    "        \n",
    "    print(\"After removing, shape of dataframe = \", AllData_dataframe.shape)\n",
    "    #print(AllData_dataframe.head())\n",
    "    \n",
    "    return AllData_dataframe\n",
    "    "
   ]
  },
  {
   "cell_type": "code",
   "execution_count": 28,
   "metadata": {},
   "outputs": [
    {
     "name": "stdout",
     "output_type": "stream",
     "text": [
      "shape =  (623, 50)\n",
      "column names =  ['Unnamed: 0', 'username', 'before_tweetcount1', 'before_tweetcount2', 'before_tweetcount3', 'after_tweetcount1', 'after_tweetcount2', 'after_tweetcount3', 'before_trumpcount1', 'before_trumpcount2', 'before_trumpcount3', 'after_trumpcount1', 'after_trumpcount2', 'after_trumpcount3', 'before_clintoncount1', 'before_clintoncount2', 'before_clintoncount3', 'after_clintoncount1', 'after_clintoncount2', 'after_clintoncount3', 'before_sentiment1', 'before_sentiment2', 'before_sentiment3', 'after_sentiment1', 'after_sentiment2', 'after_sentiment3', 'before_trump_sent1', 'before_trump_sent2', 'before_trump_sent3', 'after_trump_sent1', 'after_trump_sent2', 'after_trump_sent3', 'before_clinton_sent1', 'before_clinton_sent2', 'before_clinton_sent3', 'after_clinton_sent1', 'after_clinton_sent2', 'after_clinton_sent3', 'before_positive_sent1', 'before_positive_sent2', 'before_positive_sent3', 'after_positive_sent1', 'after_positive_sent2', 'after_positive_sent3', 'before_negative_sent1', 'before_negative_sent2', 'before_negative_sent3', 'after_negative_sent1', 'after_negative_sent2', 'after_negative_sent3']\n",
      "\n",
      "\n",
      "Before removing, shape of dataframe =  (623, 50)\n",
      "After removing, shape of dataframe =  (525, 50)\n"
     ]
    }
   ],
   "source": [
    "FullDataframe = import_Users_AllData('6_months_cutoff/noninf_responsive_05_18_20_6month.csv')\n",
    "FullDataframe = remove_users(FullDataframe, '6_months_cutoff/users_to_remove_6month_noninf_responsive_05_18_20.csv')\n",
    "### Since we deleted some rows from FullDataFrame in the beginning, we need to reindex before trying to delete\n",
    "### again.\n",
    "FullDataframe = FullDataframe.reset_index(drop=True)"
   ]
  },
  {
   "cell_type": "code",
   "execution_count": 29,
   "metadata": {},
   "outputs": [
    {
     "name": "stdout",
     "output_type": "stream",
     "text": [
      "shape =  (1434, 50)\n",
      "column names =  ['Unnamed: 0', 'username', 'before_tweetcount1', 'before_tweetcount2', 'before_tweetcount3', 'after_tweetcount1', 'after_tweetcount2', 'after_tweetcount3', 'before_trumpcount1', 'before_trumpcount2', 'before_trumpcount3', 'after_trumpcount1', 'after_trumpcount2', 'after_trumpcount3', 'before_clintoncount1', 'before_clintoncount2', 'before_clintoncount3', 'after_clintoncount1', 'after_clintoncount2', 'after_clintoncount3', 'before_sentiment1', 'before_sentiment2', 'before_sentiment3', 'after_sentiment1', 'after_sentiment2', 'after_sentiment3', 'before_trump_sent1', 'before_trump_sent2', 'before_trump_sent3', 'after_trump_sent1', 'after_trump_sent2', 'after_trump_sent3', 'before_clinton_sent1', 'before_clinton_sent2', 'before_clinton_sent3', 'after_clinton_sent1', 'after_clinton_sent2', 'after_clinton_sent3', 'before_positive_sent1', 'before_positive_sent2', 'before_positive_sent3', 'after_positive_sent1', 'after_positive_sent2', 'after_positive_sent3', 'before_negative_sent1', 'before_negative_sent2', 'before_negative_sent3', 'after_negative_sent1', 'after_negative_sent2', 'after_negative_sent3']\n",
      "\n",
      "\n",
      "Before removing, shape of dataframe =  (1434, 50)\n",
      "After removing, shape of dataframe =  (1139, 50)\n"
     ]
    }
   ],
   "source": [
    "FullDataframe2 = import_Users_AllData('6_months_cutoff/noninf_nonresponsive_05_18_20_6month.csv')\n",
    "FullDataframe2 = remove_users(FullDataframe2, '6_months_cutoff/users_to_remove_6month_noninf_non_responsive_05_18_20.csv')\n",
    "### Since we deleted some rows from FullDataFrame in the beginning, we need to reindex before trying to delete\n",
    "### again.\n",
    "FullDataframe2 = FullDataframe2.reset_index(drop=True)"
   ]
  },
  {
   "cell_type": "code",
   "execution_count": 30,
   "metadata": {},
   "outputs": [
    {
     "name": "stdout",
     "output_type": "stream",
     "text": [
      "Non-Influencer Responsive\n",
      "Percentage from before to after =  27.22 %.\n",
      "Non-Influencer Non-Responsive\n",
      "Percentage from before to after =  17.27 %.\n"
     ]
    }
   ],
   "source": [
    "print(\"Non-Influencer Responsive\")\n",
    "percentage_change(FullDataframe, 'tweetcount')\n",
    "print(\"Non-Influencer Non-Responsive\")\n",
    "percentage_change(FullDataframe2, 'tweetcount')"
   ]
  },
  {
   "cell_type": "code",
   "execution_count": 31,
   "metadata": {},
   "outputs": [
    {
     "name": "stdout",
     "output_type": "stream",
     "text": [
      "Non-Influencer Responsive\n",
      "Percentage from before to after =  -37.27 %.\n",
      "Non-Influencer Non-Responsive\n",
      "Percentage from before to after =  1.46 %.\n"
     ]
    }
   ],
   "source": [
    "print(\"Non-Influencer Responsive\")\n",
    "percentage_change(FullDataframe, 'sentiment')\n",
    "print(\"Non-Influencer Non-Responsive\")\n",
    "percentage_change(FullDataframe2, 'sentiment')"
   ]
  },
  {
   "cell_type": "code",
   "execution_count": 32,
   "metadata": {},
   "outputs": [
    {
     "name": "stdout",
     "output_type": "stream",
     "text": [
      "Non-Influencer Responsive\n",
      "Percentage from before to after =  68.45 %.\n",
      "Non-Influencer Non-Responsive\n",
      "Percentage from before to after =  26.95 %.\n"
     ]
    }
   ],
   "source": [
    "print(\"Non-Influencer Responsive\")\n",
    "percentage_change(FullDataframe, 'trumpcount')\n",
    "print(\"Non-Influencer Non-Responsive\")\n",
    "percentage_change(FullDataframe2, 'trumpcount')"
   ]
  },
  {
   "cell_type": "code",
   "execution_count": 33,
   "metadata": {},
   "outputs": [
    {
     "name": "stdout",
     "output_type": "stream",
     "text": [
      "Non-Influencer Responsive\n",
      "Percentage from before to after =  42.34 %.\n",
      "Non-Influencer Non-Responsive\n",
      "Percentage from before to after =  17.42 %.\n"
     ]
    }
   ],
   "source": [
    "print(\"Non-Influencer Responsive\")\n",
    "percentage_change(FullDataframe, 'clintoncount')\n",
    "print(\"Non-Influencer Non-Responsive\")\n",
    "percentage_change(FullDataframe2, 'clintoncount')"
   ]
  },
  {
   "cell_type": "code",
   "execution_count": 34,
   "metadata": {},
   "outputs": [
    {
     "name": "stdout",
     "output_type": "stream",
     "text": [
      "Non-Influencer Responsive\n",
      "Percentage from before to after =  -358.29 %.\n",
      "Non-Influencer Non-Responsive\n",
      "Percentage from before to after =  -42.36 %.\n"
     ]
    }
   ],
   "source": [
    "print(\"Non-Influencer Responsive\")\n",
    "percentage_change(FullDataframe, 'trump_sent')\n",
    "print(\"Non-Influencer Non-Responsive\")\n",
    "percentage_change(FullDataframe2, 'trump_sent')"
   ]
  },
  {
   "cell_type": "code",
   "execution_count": 35,
   "metadata": {},
   "outputs": [
    {
     "name": "stdout",
     "output_type": "stream",
     "text": [
      "Non-Influencer Responsive\n",
      "Percentage from before to after =  43.72 %.\n",
      "Non-Influencer Non-Responsive\n",
      "Percentage from before to after =  -488.49 %.\n"
     ]
    }
   ],
   "source": [
    "print(\"Non-Influencer Responsive\")\n",
    "percentage_change(FullDataframe, 'clinton_sent')\n",
    "print(\"Non-Influencer Non-Responsive\")\n",
    "percentage_change(FullDataframe2, 'clinton_sent')"
   ]
  },
  {
   "cell_type": "code",
   "execution_count": 36,
   "metadata": {},
   "outputs": [
    {
     "name": "stdout",
     "output_type": "stream",
     "text": [
      "shape =  (548, 50)\n",
      "column names =  ['Unnamed: 0', 'username', 'before_tweetcount1', 'before_tweetcount2', 'before_tweetcount3', 'after_tweetcount1', 'after_tweetcount2', 'after_tweetcount3', 'before_trumpcount1', 'before_trumpcount2', 'before_trumpcount3', 'after_trumpcount1', 'after_trumpcount2', 'after_trumpcount3', 'before_clintoncount1', 'before_clintoncount2', 'before_clintoncount3', 'after_clintoncount1', 'after_clintoncount2', 'after_clintoncount3', 'before_sentiment1', 'before_sentiment2', 'before_sentiment3', 'after_sentiment1', 'after_sentiment2', 'after_sentiment3', 'before_trump_sent1', 'before_trump_sent2', 'before_trump_sent3', 'after_trump_sent1', 'after_trump_sent2', 'after_trump_sent3', 'before_clinton_sent1', 'before_clinton_sent2', 'before_clinton_sent3', 'after_clinton_sent1', 'after_clinton_sent2', 'after_clinton_sent3', 'before_positive_sent1', 'before_positive_sent2', 'before_positive_sent3', 'after_positive_sent1', 'after_positive_sent2', 'after_positive_sent3', 'before_negative_sent1', 'before_negative_sent2', 'before_negative_sent3', 'after_negative_sent1', 'after_negative_sent2', 'after_negative_sent3']\n",
      "\n",
      "\n",
      "Before removing, shape of dataframe =  (548, 50)\n",
      "After removing, shape of dataframe =  (455, 50)\n"
     ]
    }
   ],
   "source": [
    "FullDataframe = import_Users_AllData('6_months_cutoff/inf_responsive_05_18_20_6month.csv')\n",
    "FullDataframe = remove_users(FullDataframe, '6_months_cutoff/users_to_remove_6month_INF_RESPONSIVE_05_18_2020.csv')\n",
    "### Since we deleted some rows from FullDataFrame in the beginning, we need to reindex before trying to delete\n",
    "### again.\n",
    "FullDataframe = FullDataframe.reset_index(drop=True)"
   ]
  },
  {
   "cell_type": "code",
   "execution_count": 37,
   "metadata": {},
   "outputs": [
    {
     "name": "stdout",
     "output_type": "stream",
     "text": [
      "shape =  (3082, 50)\n",
      "column names =  ['Unnamed: 0', 'username', 'before_tweetcount1', 'before_tweetcount2', 'before_tweetcount3', 'after_tweetcount1', 'after_tweetcount2', 'after_tweetcount3', 'before_trumpcount1', 'before_trumpcount2', 'before_trumpcount3', 'after_trumpcount1', 'after_trumpcount2', 'after_trumpcount3', 'before_clintoncount1', 'before_clintoncount2', 'before_clintoncount3', 'after_clintoncount1', 'after_clintoncount2', 'after_clintoncount3', 'before_sentiment1', 'before_sentiment2', 'before_sentiment3', 'after_sentiment1', 'after_sentiment2', 'after_sentiment3', 'before_trump_sent1', 'before_trump_sent2', 'before_trump_sent3', 'after_trump_sent1', 'after_trump_sent2', 'after_trump_sent3', 'before_clinton_sent1', 'before_clinton_sent2', 'before_clinton_sent3', 'after_clinton_sent1', 'after_clinton_sent2', 'after_clinton_sent3', 'before_positive_sent1', 'before_positive_sent2', 'before_positive_sent3', 'after_positive_sent1', 'after_positive_sent2', 'after_positive_sent3', 'before_negative_sent1', 'before_negative_sent2', 'before_negative_sent3', 'after_negative_sent1', 'after_negative_sent2', 'after_negative_sent3']\n",
      "\n",
      "\n",
      "Before removing, shape of dataframe =  (3082, 50)\n",
      "After removing, shape of dataframe =  (2668, 50)\n"
     ]
    }
   ],
   "source": [
    "FullDataframe2 = import_Users_AllData('6_months_cutoff/inf_nonresponsive_05_18_20_6month.csv')\n",
    "FullDataframe2 = remove_users(FullDataframe2, '6_months_cutoff/users_to_remove_6month_INF_NONRESPONSIVE_05_18_2020.csv')\n",
    "### Since we deleted some rows from FullDataFrame in the beginning, we need to reindex before trying to delete\n",
    "### again.\n",
    "FullDataframe2 = FullDataframe2.reset_index(drop=True)"
   ]
  },
  {
   "cell_type": "code",
   "execution_count": 38,
   "metadata": {},
   "outputs": [
    {
     "name": "stdout",
     "output_type": "stream",
     "text": [
      "Influencer Responsive\n",
      "Percentage from before to after =  15.47 %.\n",
      "Influencer Non-Responsive\n",
      "Percentage from before to after =  10.43 %.\n"
     ]
    }
   ],
   "source": [
    "print(\"Influencer Responsive\")\n",
    "percentage_change(FullDataframe, 'tweetcount')\n",
    "print(\"Influencer Non-Responsive\")\n",
    "percentage_change(FullDataframe2, 'tweetcount')"
   ]
  },
  {
   "cell_type": "code",
   "execution_count": 39,
   "metadata": {},
   "outputs": [
    {
     "name": "stdout",
     "output_type": "stream",
     "text": [
      "Influencer Responsive\n",
      "Percentage from before to after =  -16.46 %.\n",
      "Influencer Non-Responsive\n",
      "Percentage from before to after =  -4.55 %.\n"
     ]
    }
   ],
   "source": [
    "print(\"Influencer Responsive\")\n",
    "percentage_change(FullDataframe, 'sentiment')\n",
    "print(\"Influencer Non-Responsive\")\n",
    "percentage_change(FullDataframe2, 'sentiment')"
   ]
  },
  {
   "cell_type": "code",
   "execution_count": 40,
   "metadata": {},
   "outputs": [
    {
     "name": "stdout",
     "output_type": "stream",
     "text": [
      "Influencer Responsive\n",
      "Percentage from before to after =  85.68 %.\n",
      "Influencer Non-Responsive\n",
      "Percentage from before to after =  122.72 %.\n"
     ]
    }
   ],
   "source": [
    "print(\"Influencer Responsive\")\n",
    "percentage_change(FullDataframe, 'trumpcount')\n",
    "print(\"Influencer Non-Responsive\")\n",
    "percentage_change(FullDataframe2, 'trumpcount')"
   ]
  },
  {
   "cell_type": "code",
   "execution_count": 43,
   "metadata": {},
   "outputs": [
    {
     "name": "stdout",
     "output_type": "stream",
     "text": [
      "Influencer Responsive\n",
      "Percentage from before to after =  83.69 %.\n",
      "Influencer Non-Responsive\n",
      "Percentage from before to after =  70.74 %.\n"
     ]
    }
   ],
   "source": [
    "print(\"Influencer Responsive\")\n",
    "percentage_change(FullDataframe, 'clintoncount')\n",
    "print(\"Influencer Non-Responsive\")\n",
    "percentage_change(FullDataframe2, 'clintoncount')"
   ]
  },
  {
   "cell_type": "code",
   "execution_count": 44,
   "metadata": {},
   "outputs": [
    {
     "name": "stdout",
     "output_type": "stream",
     "text": [
      "Influencer Responsive\n",
      "Percentage from before to after =  -64.87 %.\n",
      "Influencer Non-Responsive\n",
      "Percentage from before to after =  59.61 %.\n"
     ]
    }
   ],
   "source": [
    "print(\"Influencer Responsive\")\n",
    "percentage_change(FullDataframe, 'trump_sent')\n",
    "print(\"Influencer Non-Responsive\")\n",
    "percentage_change(FullDataframe2, 'trump_sent')"
   ]
  },
  {
   "cell_type": "code",
   "execution_count": 45,
   "metadata": {},
   "outputs": [
    {
     "name": "stdout",
     "output_type": "stream",
     "text": [
      "Influencer Responsive\n",
      "Percentage from before to after =  1128.6 %.\n",
      "Influencer Non-Responsive\n",
      "Percentage from before to after =  -8.53 %.\n"
     ]
    }
   ],
   "source": [
    "print(\"Influencer Responsive\")\n",
    "percentage_change(FullDataframe, 'clinton_sent')\n",
    "print(\"Influencer Non-Responsive\")\n",
    "percentage_change(FullDataframe2, 'clinton_sent')"
   ]
  },
  {
   "cell_type": "code",
   "execution_count": null,
   "metadata": {
    "collapsed": true
   },
   "outputs": [],
   "source": []
  }
 ],
 "metadata": {
  "kernelspec": {
   "display_name": "Python 3",
   "language": "python",
   "name": "python3"
  },
  "language_info": {
   "codemirror_mode": {
    "name": "ipython",
    "version": 3
   },
   "file_extension": ".py",
   "mimetype": "text/x-python",
   "name": "python",
   "nbconvert_exporter": "python",
   "pygments_lexer": "ipython3",
   "version": "3.6.3"
  }
 },
 "nbformat": 4,
 "nbformat_minor": 2
}
