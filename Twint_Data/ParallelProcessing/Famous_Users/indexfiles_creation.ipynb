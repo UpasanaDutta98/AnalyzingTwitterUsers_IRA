{
 "cells": [
  {
   "cell_type": "code",
   "execution_count": 1,
   "metadata": {},
   "outputs": [
    {
     "name": "stdout",
     "output_type": "stream",
     "text": [
      "125\n",
      "0 125\n",
      "125 250\n",
      "250 375\n",
      "375 500\n",
      "500 625\n",
      "625 750\n",
      "750 875\n",
      "875 1000\n"
     ]
    }
   ],
   "source": [
    "import sys\n",
    "import pandas as pd\n",
    "\n",
    "def indexing(min_index, max_index):\n",
    "    index_for_tweet = pd.DataFrame()\n",
    "    indexList = [0]\n",
    "    index_for_tweet['index'] = indexList\n",
    "    increment = int(((max_index-min_index)+1)//8)\n",
    "    print(increment)\n",
    "    for i in range(min_index, max_index,increment):\n",
    "        csvfile = \"index_files/index_tweet_only\"+str(i)+\"to\"+str(i+increment)+\".csv\"\n",
    "        index_for_tweet.to_csv(csvfile, index = False, header = False)\n",
    "        print(i, i+increment)\n",
    "\n",
    "min_index=0\n",
    "max_index=1000\n",
    "indexing(min_index, max_index)\n",
    "\n",
    "#1757\n",
    "#1998"
   ]
  },
  {
   "cell_type": "code",
   "execution_count": 1,
   "metadata": {
    "collapsed": true
   },
   "outputs": [],
   "source": [
    "import tweepy\n",
    "from time import sleep\n",
    "\n",
    "consumer_key = 'kMPfqOqXWP1BO9uJJtwLJT7Iy'\n",
    "consumer_secret = 'MkvtA3ZN55OwQ80ZFWgUGJ0gTqKbVv4bk3Z2npz7QLXk2V4osX'\n",
    "access_token = '1208955205032632328-Xa3ZI96nAeYfUU5SV9xjY6RT8qWGFA'\n",
    "access_token_secret = 'jYo2BNrkmle2NiXSdGo2fZvroZJTVGzimaBClNCSYSNLI'\n",
    "\n",
    "auth = tweepy.OAuthHandler(consumer_key, consumer_secret)\n",
    "auth.set_access_token(access_token, access_token_secret)\n",
    "\n",
    "api = tweepy.API(auth)"
   ]
  },
  {
   "cell_type": "code",
   "execution_count": 3,
   "metadata": {},
   "outputs": [
    {
     "data": {
      "text/plain": [
       "32"
      ]
     },
     "execution_count": 3,
     "metadata": {},
     "output_type": "execute_result"
    }
   ],
   "source": [
    "api.get_user('Upasana_Dutta98').statuses_count"
   ]
  },
  {
   "cell_type": "code",
   "execution_count": null,
   "metadata": {
    "collapsed": true
   },
   "outputs": [],
   "source": []
  },
  {
   "cell_type": "code",
   "execution_count": null,
   "metadata": {
    "collapsed": true
   },
   "outputs": [],
   "source": []
  },
  {
   "cell_type": "code",
   "execution_count": null,
   "metadata": {
    "collapsed": true
   },
   "outputs": [],
   "source": []
  },
  {
   "cell_type": "code",
   "execution_count": 2,
   "metadata": {
    "collapsed": true
   },
   "outputs": [],
   "source": [
    "import pandas as pd\n",
    "\n",
    "\n",
    "index_for_tweet = pd.DataFrame()\n",
    "indexList = [0]\n",
    "index_for_tweet['index'] = indexList\n",
    "csvfile = \"index_tweet_only\"+str(3006)+\"to\"+str(3037)+\".csv\"\n",
    "index_for_tweet.to_csv(csvfile, index = False, header = False)\n",
    "\n",
    "csvfile = \"index_tweet_only\"+str(3037)+\"to\"+str(3068)+\".csv\"\n",
    "index_for_tweet.to_csv(csvfile, index = False, header = False)\n",
    "\n",
    "csvfile = \"index_tweet_only\"+str(3068)+\"to\"+str(3099)+\".csv\"\n",
    "index_for_tweet.to_csv(csvfile, index = False, header = False)\n",
    "\n",
    "csvfile = \"index_tweet_only\"+str(3099)+\"to\"+str(3125)+\".csv\"\n",
    "index_for_tweet.to_csv(csvfile, index = False, header = False)\n",
    "\n",
    "csvfile = \"index_tweet_only\"+str(3253)+\"to\"+str(3284)+\".csv\"\n",
    "index_for_tweet.to_csv(csvfile, index = False, header = False)\n",
    "\n",
    "csvfile = \"index_tweet_only\"+str(3284)+\"to\"+str(3315)+\".csv\"\n",
    "index_for_tweet.to_csv(csvfile, index = False, header = False)\n",
    "\n",
    "csvfile = \"index_tweet_only\"+str(3315)+\"to\"+str(3346)+\".csv\"\n",
    "index_for_tweet.to_csv(csvfile, index = False, header = False)\n",
    "\n",
    "csvfile = \"index_tweet_only\"+str(3346)+\"to\"+str(3375)+\".csv\"\n",
    "index_for_tweet.to_csv(csvfile, index = False, header = False)\n"
   ]
  },
  {
   "cell_type": "code",
   "execution_count": null,
   "metadata": {
    "collapsed": true
   },
   "outputs": [],
   "source": []
  }
 ],
 "metadata": {
  "kernelspec": {
   "display_name": "Python 3",
   "language": "python",
   "name": "python3"
  },
  "language_info": {
   "codemirror_mode": {
    "name": "ipython",
    "version": 3
   },
   "file_extension": ".py",
   "mimetype": "text/x-python",
   "name": "python",
   "nbconvert_exporter": "python",
   "pygments_lexer": "ipython3",
   "version": "3.6.3"
  }
 },
 "nbformat": 4,
 "nbformat_minor": 2
}
