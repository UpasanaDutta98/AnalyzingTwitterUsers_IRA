{
 "cells": [
  {
   "cell_type": "code",
   "execution_count": 1,
   "metadata": {},
   "outputs": [
    {
     "name": "stdout",
     "output_type": "stream",
     "text": [
      "(8768633, 31)\n"
     ]
    }
   ],
   "source": [
    "import pandas as pd\n",
    "import numpy as np\n",
    "Big_df = pd.read_csv('ira_tweets_csv_unhashed.csv', engine = 'python')\n",
    "print(Big_df.shape)"
   ]
  },
  {
   "cell_type": "code",
   "execution_count": 18,
   "metadata": {},
   "outputs": [
    {
     "data": {
      "text/plain": [
       "Index(['tweetid', 'userid', 'user_display_name', 'user_screen_name',\n",
       "       'user_reported_location', 'user_profile_description',\n",
       "       'user_profile_url', 'follower_count', 'following_count',\n",
       "       'account_creation_date', 'account_language', 'tweet_language',\n",
       "       'tweet_text', 'tweet_time', 'tweet_client_name', 'in_reply_to_tweetid',\n",
       "       'in_reply_to_userid', 'quoted_tweet_tweetid', 'is_retweet',\n",
       "       'retweet_userid', 'retweet_tweetid', 'latitude', 'longitude',\n",
       "       'quote_count', 'reply_count', 'like_count', 'retweet_count', 'hashtags',\n",
       "       'urls', 'user_mentions', 'poll_choices'],\n",
       "      dtype='object')"
      ]
     },
     "execution_count": 18,
     "metadata": {},
     "output_type": "execute_result"
    }
   ],
   "source": [
    "Big_df.columns"
   ]
  },
  {
   "cell_type": "code",
   "execution_count": 2,
   "metadata": {
    "collapsed": true
   },
   "outputs": [],
   "source": [
    "tweet_time = Big_df['tweet_time']\n",
    "tweet_time = tweet_time.tolist()"
   ]
  },
  {
   "cell_type": "code",
   "execution_count": 19,
   "metadata": {},
   "outputs": [
    {
     "data": {
      "text/plain": [
       "['2017-04-14 20:11',\n",
       " '2016-10-09 00:27',\n",
       " '2017-01-29 02:43',\n",
       " '2017-01-11 02:03',\n",
       " '2017-02-28 23:51',\n",
       " '2016-08-31 12:44',\n",
       " '2016-08-17 17:56',\n",
       " '2016-06-09 10:06',\n",
       " '2014-09-10 08:16',\n",
       " '2015-04-03 13:19']"
      ]
     },
     "execution_count": 19,
     "metadata": {},
     "output_type": "execute_result"
    }
   ],
   "source": [
    "tweet_time[:10]"
   ]
  },
  {
   "cell_type": "code",
   "execution_count": 3,
   "metadata": {
    "collapsed": true
   },
   "outputs": [],
   "source": [
    "yearwise = []\n",
    "for i in range(len(tweet_time)):\n",
    "    dateTimeSplit = tweet_time[i].split(' ')\n",
    "    year = dateTimeSplit[0].split('-')\n",
    "    yearwise.append(year[0])"
   ]
  },
  {
   "cell_type": "code",
   "execution_count": 3,
   "metadata": {},
   "outputs": [
    {
     "name": "stdout",
     "output_type": "stream",
     "text": [
      "<class 'set'>\n"
     ]
    }
   ],
   "source": [
    "myset = set()\n",
    "print(type(myset))"
   ]
  },
  {
   "cell_type": "code",
   "execution_count": 4,
   "metadata": {},
   "outputs": [
    {
     "name": "stdout",
     "output_type": "stream",
     "text": [
      "['2017', '2016', '2017', '2017', '2017', '2016', '2016', '2016', '2014', '2015', '2015', '2015', '2015', '2015', '2016', '2016', '2016', '2016', '2016', '2015']\n"
     ]
    }
   ],
   "source": [
    "print(yearwise[:20])"
   ]
  },
  {
   "cell_type": "code",
   "execution_count": 5,
   "metadata": {
    "collapsed": true
   },
   "outputs": [],
   "source": [
    "import matplotlib.pyplot as plt\n",
    "#plt.hist(yearwise)"
   ]
  },
  {
   "cell_type": "code",
   "execution_count": 6,
   "metadata": {
    "scrolled": true
   },
   "outputs": [
    {
     "data": {
      "text/plain": [
       "'2009'"
      ]
     },
     "execution_count": 6,
     "metadata": {},
     "output_type": "execute_result"
    }
   ],
   "source": [
    "min(yearwise)"
   ]
  },
  {
   "cell_type": "code",
   "execution_count": 7,
   "metadata": {
    "scrolled": true
   },
   "outputs": [
    {
     "data": {
      "text/plain": [
       "'2018'"
      ]
     },
     "execution_count": 7,
     "metadata": {},
     "output_type": "execute_result"
    }
   ],
   "source": [
    "max(yearwise)"
   ]
  },
  {
   "cell_type": "code",
   "execution_count": 8,
   "metadata": {},
   "outputs": [
    {
     "data": {
      "text/plain": [
       "(array([2.120000e+02, 1.906300e+04, 1.465600e+04, 2.173240e+05,\n",
       "        1.485030e+05, 2.329674e+06, 3.132628e+06, 1.565337e+06,\n",
       "        1.330419e+06, 1.081700e+04]),\n",
       " array([0. , 0.9, 1.8, 2.7, 3.6, 4.5, 5.4, 6.3, 7.2, 8.1, 9. ]),\n",
       " <a list of 10 Patch objects>)"
      ]
     },
     "execution_count": 8,
     "metadata": {},
     "output_type": "execute_result"
    }
   ],
   "source": [
    "plt.hist(yearwise)"
   ]
  },
  {
   "cell_type": "code",
   "execution_count": 9,
   "metadata": {
    "collapsed": true
   },
   "outputs": [],
   "source": [
    "plt.style.use('ggplot')\n",
    "plt.hist(yearwise)\n",
    "plt.savefig(\"Tweet_VS_Time.png\")"
   ]
  },
  {
   "cell_type": "code",
   "execution_count": 9,
   "metadata": {
    "collapsed": true
   },
   "outputs": [],
   "source": [
    "for k in range(len(yearwise)):\n",
    "    yearwise[k] = int(yearwise[k])"
   ]
  },
  {
   "cell_type": "code",
   "execution_count": 10,
   "metadata": {
    "collapsed": true
   },
   "outputs": [],
   "source": [
    "yearFrequency_dict = {}\n",
    "for k in yearwise:\n",
    "    if k in yearFrequency_dict:\n",
    "        yearFrequency_dict[k]+=1\n",
    "    else:\n",
    "        yearFrequency_dict[k] = 1"
   ]
  },
  {
   "cell_type": "code",
   "execution_count": 11,
   "metadata": {
    "collapsed": true
   },
   "outputs": [],
   "source": [
    "sorted_yearwiseTweets = sorted(yearFrequency_dict) #, key=yearFrequency_dict.__getitem__)"
   ]
  },
  {
   "cell_type": "code",
   "execution_count": 12,
   "metadata": {},
   "outputs": [
    {
     "data": {
      "text/plain": [
       "[2009, 2010, 2011, 2012, 2013, 2014, 2015, 2016, 2017, 2018]"
      ]
     },
     "execution_count": 12,
     "metadata": {},
     "output_type": "execute_result"
    }
   ],
   "source": [
    "sorted_yearwiseTweets"
   ]
  },
  {
   "cell_type": "code",
   "execution_count": 13,
   "metadata": {
    "collapsed": true
   },
   "outputs": [],
   "source": [
    "tweetFrequency = []\n",
    "for i in range(len(sorted_yearwiseTweets)):\n",
    "    tweetFrequency.append(yearFrequency_dict[sorted_yearwiseTweets[i]])"
   ]
  },
  {
   "cell_type": "code",
   "execution_count": 15,
   "metadata": {},
   "outputs": [
    {
     "data": {
      "text/plain": [
       "[<matplotlib.lines.Line2D at 0x7f71771c1048>]"
      ]
     },
     "execution_count": 15,
     "metadata": {},
     "output_type": "execute_result"
    }
   ],
   "source": [
    "plt.plot(sorted_yearwiseTweets, tweetFrequency)"
   ]
  },
  {
   "cell_type": "code",
   "execution_count": 14,
   "metadata": {
    "collapsed": true
   },
   "outputs": [],
   "source": [
    "tweetFrequency_plot = tweetFrequency\n",
    "for j in range(len(tweetFrequency_plot)):\n",
    "    tweetFrequency_plot[j] = tweetFrequency[j]/100000"
   ]
  },
  {
   "cell_type": "code",
   "execution_count": 15,
   "metadata": {},
   "outputs": [
    {
     "data": {
      "image/png": "[encoded data removed]",
      "text/plain": [
       "<matplotlib.figure.Figure at 0x7fccc7e546d8>"
      ]
     },
     "metadata": {},
     "output_type": "display_data"
    }
   ],
   "source": [
    "%matplotlib inline\n",
    "plt.style.use('ggplot')\n",
    "fig = plt.figure()\n",
    "\n",
    "graph = fig.add_subplot(111)\n",
    "\n",
    "# Plot the data as a red line with round markers\n",
    "graph.plot(sorted_yearwiseTweets, tweetFrequency_plot,'r-o')\n",
    "plt.xlabel('Year')\n",
    "plt.ylabel('Number of tweets by IRA (in million)')\n",
    "# Set the xtick locations to correspond to just the dates you entered.\n",
    "#graph.set_xticks(x)\n",
    "#plt.plot(sorted_yearwiseTweets, tweetFrequency_plot)\n",
    "graph.set_xticks(sorted_yearwiseTweets)\n",
    "plt.savefig(\"Tweet_VS_Time.png\")"
   ]
  },
  {
   "cell_type": "code",
   "execution_count": 16,
   "metadata": {
    "collapsed": true
   },
   "outputs": [],
   "source": [
    "year_month_wise = []\n",
    "for i in range(len(tweet_time)):\n",
    "    dateTimeSplit = tweet_time[i].split(' ')\n",
    "    yearmonthday = dateTimeSplit[0].split('-')\n",
    "    year_month_wise.append(yearmonthday[0]+\"-\"+yearmonthday[1])"
   ]
  },
  {
   "cell_type": "code",
   "execution_count": 17,
   "metadata": {},
   "outputs": [
    {
     "data": {
      "text/plain": [
       "['2017-04',\n",
       " '2016-10',\n",
       " '2017-01',\n",
       " '2017-01',\n",
       " '2017-02',\n",
       " '2016-08',\n",
       " '2016-08',\n",
       " '2016-06',\n",
       " '2014-09',\n",
       " '2015-04',\n",
       " '2015-07',\n",
       " '2015-12',\n",
       " '2015-03',\n",
       " '2015-05',\n",
       " '2016-10',\n",
       " '2016-01',\n",
       " '2016-06',\n",
       " '2016-06',\n",
       " '2016-09',\n",
       " '2015-10']"
      ]
     },
     "execution_count": 17,
     "metadata": {},
     "output_type": "execute_result"
    }
   ],
   "source": [
    "year_month_wise[:20]"
   ]
  },
  {
   "cell_type": "code",
   "execution_count": 20,
   "metadata": {},
   "outputs": [
    {
     "data": {
      "text/plain": [
       "'2009/05'"
      ]
     },
     "execution_count": 20,
     "metadata": {},
     "output_type": "execute_result"
    }
   ],
   "source": [
    "min(year_month_wise)"
   ]
  },
  {
   "cell_type": "code",
   "execution_count": 21,
   "metadata": {},
   "outputs": [
    {
     "data": {
      "text/plain": [
       "'2018/06'"
      ]
     },
     "execution_count": 21,
     "metadata": {},
     "output_type": "execute_result"
    }
   ],
   "source": [
    "max(year_month_wise)"
   ]
  },
  {
   "cell_type": "code",
   "execution_count": 22,
   "metadata": {
    "collapsed": true
   },
   "outputs": [],
   "source": [
    "yearmonthFrequency_dict = {}\n",
    "for k in year_month_wise:\n",
    "    if k in yearmonthFrequency_dict:\n",
    "        yearmonthFrequency_dict[k]+=1\n",
    "    else:\n",
    "        yearmonthFrequency_dict[k] = 1"
   ]
  },
  {
   "cell_type": "code",
   "execution_count": 23,
   "metadata": {
    "collapsed": true
   },
   "outputs": [],
   "source": [
    "sorted_yearmonthwiseTweets = sorted(yearmonthFrequency_dict) #, key=yearFrequency_dict.__getitem__)"
   ]
  },
  {
   "cell_type": "code",
   "execution_count": 24,
   "metadata": {},
   "outputs": [
    {
     "data": {
      "text/plain": [
       "['2009/05',\n",
       " '2009/06',\n",
       " '2009/07',\n",
       " '2009/09',\n",
       " '2009/10',\n",
       " '2009/11',\n",
       " '2009/12',\n",
       " '2010/01',\n",
       " '2010/02',\n",
       " '2010/03',\n",
       " '2010/04',\n",
       " '2010/05',\n",
       " '2010/06',\n",
       " '2010/07',\n",
       " '2010/08',\n",
       " '2010/09',\n",
       " '2010/10',\n",
       " '2010/11',\n",
       " '2010/12',\n",
       " '2011/01',\n",
       " '2011/02',\n",
       " '2011/03',\n",
       " '2011/04',\n",
       " '2011/05',\n",
       " '2011/06',\n",
       " '2011/07',\n",
       " '2011/08',\n",
       " '2011/09',\n",
       " '2011/10',\n",
       " '2011/11',\n",
       " '2011/12',\n",
       " '2012/01',\n",
       " '2012/02',\n",
       " '2012/03',\n",
       " '2012/04',\n",
       " '2012/05',\n",
       " '2012/06',\n",
       " '2012/07',\n",
       " '2012/08',\n",
       " '2012/09',\n",
       " '2012/10',\n",
       " '2012/11',\n",
       " '2012/12',\n",
       " '2013/01',\n",
       " '2013/02',\n",
       " '2013/03',\n",
       " '2013/04',\n",
       " '2013/05',\n",
       " '2013/06',\n",
       " '2013/07',\n",
       " '2013/08',\n",
       " '2013/09',\n",
       " '2013/10',\n",
       " '2013/11',\n",
       " '2013/12',\n",
       " '2014/01',\n",
       " '2014/02',\n",
       " '2014/03',\n",
       " '2014/04',\n",
       " '2014/05',\n",
       " '2014/06',\n",
       " '2014/07',\n",
       " '2014/08',\n",
       " '2014/09',\n",
       " '2014/10',\n",
       " '2014/11',\n",
       " '2014/12',\n",
       " '2015/01',\n",
       " '2015/02',\n",
       " '2015/03',\n",
       " '2015/04',\n",
       " '2015/05',\n",
       " '2015/06',\n",
       " '2015/07',\n",
       " '2015/08',\n",
       " '2015/09',\n",
       " '2015/10',\n",
       " '2015/11',\n",
       " '2015/12',\n",
       " '2016/01',\n",
       " '2016/02',\n",
       " '2016/03',\n",
       " '2016/04',\n",
       " '2016/05',\n",
       " '2016/06',\n",
       " '2016/07',\n",
       " '2016/08',\n",
       " '2016/09',\n",
       " '2016/10',\n",
       " '2016/11',\n",
       " '2016/12',\n",
       " '2017/01',\n",
       " '2017/02',\n",
       " '2017/03',\n",
       " '2017/04',\n",
       " '2017/05',\n",
       " '2017/06',\n",
       " '2017/07',\n",
       " '2017/08',\n",
       " '2017/09',\n",
       " '2017/10',\n",
       " '2017/11',\n",
       " '2017/12',\n",
       " '2018/01',\n",
       " '2018/02',\n",
       " '2018/03',\n",
       " '2018/04',\n",
       " '2018/05',\n",
       " '2018/06']"
      ]
     },
     "execution_count": 24,
     "metadata": {},
     "output_type": "execute_result"
    }
   ],
   "source": [
    "sorted_yearmonthwiseTweets"
   ]
  },
  {
   "cell_type": "code",
   "execution_count": 25,
   "metadata": {
    "collapsed": true
   },
   "outputs": [],
   "source": [
    "monthly_tweetFrequency = []\n",
    "for i in range(len(sorted_yearmonthwiseTweets)):\n",
    "    monthly_tweetFrequency.append(yearmonthFrequency_dict[sorted_yearmonthwiseTweets[i]])"
   ]
  },
  {
   "cell_type": "code",
   "execution_count": 26,
   "metadata": {},
   "outputs": [
    {
     "data": {
      "text/plain": [
       "[20,\n",
       " 6,\n",
       " 8,\n",
       " 17,\n",
       " 6,\n",
       " 32,\n",
       " 123,\n",
       " 998,\n",
       " 1864,\n",
       " 2651,\n",
       " 2766,\n",
       " 1680,\n",
       " 1123,\n",
       " 971,\n",
       " 1199,\n",
       " 1529,\n",
       " 1453,\n",
       " 1430,\n",
       " 1399,\n",
       " 1020,\n",
       " 976,\n",
       " 1028,\n",
       " 1014,\n",
       " 1254,\n",
       " 1090,\n",
       " 1446,\n",
       " 1122,\n",
       " 1374,\n",
       " 1233,\n",
       " 1526,\n",
       " 1573,\n",
       " 1341,\n",
       " 3866,\n",
       " 4088,\n",
       " 9216,\n",
       " 14013,\n",
       " 12733,\n",
       " 13732,\n",
       " 26048,\n",
       " 33366,\n",
       " 34230,\n",
       " 30497,\n",
       " 34194,\n",
       " 28706,\n",
       " 24564,\n",
       " 24541,\n",
       " 24277,\n",
       " 9179,\n",
       " 2983,\n",
       " 5332,\n",
       " 4450,\n",
       " 4758,\n",
       " 6864,\n",
       " 6534,\n",
       " 6315,\n",
       " 8776,\n",
       " 17385,\n",
       " 23473,\n",
       " 24179,\n",
       " 35801,\n",
       " 150251,\n",
       " 361626,\n",
       " 522903,\n",
       " 334103,\n",
       " 437588,\n",
       " 185433,\n",
       " 228156,\n",
       " 309548,\n",
       " 289927,\n",
       " 341355,\n",
       " 279962,\n",
       " 214906,\n",
       " 216484,\n",
       " 272052,\n",
       " 273894,\n",
       " 211870,\n",
       " 226923,\n",
       " 273082,\n",
       " 222625,\n",
       " 99067,\n",
       " 113076,\n",
       " 104663,\n",
       " 98743,\n",
       " 103492,\n",
       " 103143,\n",
       " 78736,\n",
       " 106255,\n",
       " 138024,\n",
       " 199842,\n",
       " 189511,\n",
       " 230785,\n",
       " 189883,\n",
       " 154976,\n",
       " 232703,\n",
       " 238529,\n",
       " 126858,\n",
       " 87385,\n",
       " 111103,\n",
       " 84646,\n",
       " 51464,\n",
       " 19937,\n",
       " 22102,\n",
       " 10833,\n",
       " 2301,\n",
       " 2615,\n",
       " 2371,\n",
       " 1711,\n",
       " 1712,\n",
       " 107]"
      ]
     },
     "execution_count": 26,
     "metadata": {},
     "output_type": "execute_result"
    }
   ],
   "source": [
    "monthly_tweetFrequency"
   ]
  },
  {
   "cell_type": "code",
   "execution_count": 27,
   "metadata": {
    "collapsed": true
   },
   "outputs": [],
   "source": [
    "monthly_tweetFrequency_plot = monthly_tweetFrequency\n",
    "for k in range(len(monthly_tweetFrequency)):\n",
    "    monthly_tweetFrequency_plot[k] = monthly_tweetFrequency_plot[k]/100000"
   ]
  },
  {
   "cell_type": "code",
   "execution_count": 28,
   "metadata": {},
   "outputs": [
    {
     "data": {
      "text/plain": [
       "[0.0002,\n",
       " 6e-05,\n",
       " 8e-05,\n",
       " 0.00017,\n",
       " 6e-05,\n",
       " 0.00032,\n",
       " 0.00123,\n",
       " 0.00998,\n",
       " 0.01864,\n",
       " 0.02651,\n",
       " 0.02766,\n",
       " 0.0168,\n",
       " 0.01123,\n",
       " 0.00971,\n",
       " 0.01199,\n",
       " 0.01529,\n",
       " 0.01453,\n",
       " 0.0143,\n",
       " 0.01399,\n",
       " 0.0102,\n",
       " 0.00976,\n",
       " 0.01028,\n",
       " 0.01014,\n",
       " 0.01254,\n",
       " 0.0109,\n",
       " 0.01446,\n",
       " 0.01122,\n",
       " 0.01374,\n",
       " 0.01233,\n",
       " 0.01526,\n",
       " 0.01573,\n",
       " 0.01341,\n",
       " 0.03866,\n",
       " 0.04088,\n",
       " 0.09216,\n",
       " 0.14013,\n",
       " 0.12733,\n",
       " 0.13732,\n",
       " 0.26048,\n",
       " 0.33366,\n",
       " 0.3423,\n",
       " 0.30497,\n",
       " 0.34194,\n",
       " 0.28706,\n",
       " 0.24564,\n",
       " 0.24541,\n",
       " 0.24277,\n",
       " 0.09179,\n",
       " 0.02983,\n",
       " 0.05332,\n",
       " 0.0445,\n",
       " 0.04758,\n",
       " 0.06864,\n",
       " 0.06534,\n",
       " 0.06315,\n",
       " 0.08776,\n",
       " 0.17385,\n",
       " 0.23473,\n",
       " 0.24179,\n",
       " 0.35801,\n",
       " 1.50251,\n",
       " 3.61626,\n",
       " 5.22903,\n",
       " 3.34103,\n",
       " 4.37588,\n",
       " 1.85433,\n",
       " 2.28156,\n",
       " 3.09548,\n",
       " 2.89927,\n",
       " 3.41355,\n",
       " 2.79962,\n",
       " 2.14906,\n",
       " 2.16484,\n",
       " 2.72052,\n",
       " 2.73894,\n",
       " 2.1187,\n",
       " 2.26923,\n",
       " 2.73082,\n",
       " 2.22625,\n",
       " 0.99067,\n",
       " 1.13076,\n",
       " 1.04663,\n",
       " 0.98743,\n",
       " 1.03492,\n",
       " 1.03143,\n",
       " 0.78736,\n",
       " 1.06255,\n",
       " 1.38024,\n",
       " 1.99842,\n",
       " 1.89511,\n",
       " 2.30785,\n",
       " 1.89883,\n",
       " 1.54976,\n",
       " 2.32703,\n",
       " 2.38529,\n",
       " 1.26858,\n",
       " 0.87385,\n",
       " 1.11103,\n",
       " 0.84646,\n",
       " 0.51464,\n",
       " 0.19937,\n",
       " 0.22102,\n",
       " 0.10833,\n",
       " 0.02301,\n",
       " 0.02615,\n",
       " 0.02371,\n",
       " 0.01711,\n",
       " 0.01712,\n",
       " 0.00107]"
      ]
     },
     "execution_count": 28,
     "metadata": {},
     "output_type": "execute_result"
    }
   ],
   "source": [
    "monthly_tweetFrequency_plot"
   ]
  },
  {
   "cell_type": "code",
   "execution_count": 29,
   "metadata": {},
   "outputs": [
    {
     "data": {
      "text/plain": [
       "['2009/05',\n",
       " '2009/06',\n",
       " '2009/07',\n",
       " '2009/09',\n",
       " '2009/10',\n",
       " '2009/11',\n",
       " '2009/12',\n",
       " '2010/01',\n",
       " '2010/02',\n",
       " '2010/03',\n",
       " '2010/04',\n",
       " '2010/05',\n",
       " '2010/06',\n",
       " '2010/07',\n",
       " '2010/08',\n",
       " '2010/09',\n",
       " '2010/10',\n",
       " '2010/11',\n",
       " '2010/12',\n",
       " '2011/01',\n",
       " '2011/02',\n",
       " '2011/03',\n",
       " '2011/04',\n",
       " '2011/05',\n",
       " '2011/06',\n",
       " '2011/07',\n",
       " '2011/08',\n",
       " '2011/09',\n",
       " '2011/10',\n",
       " '2011/11',\n",
       " '2011/12',\n",
       " '2012/01',\n",
       " '2012/02',\n",
       " '2012/03',\n",
       " '2012/04',\n",
       " '2012/05',\n",
       " '2012/06',\n",
       " '2012/07',\n",
       " '2012/08',\n",
       " '2012/09',\n",
       " '2012/10',\n",
       " '2012/11',\n",
       " '2012/12',\n",
       " '2013/01',\n",
       " '2013/02',\n",
       " '2013/03',\n",
       " '2013/04',\n",
       " '2013/05',\n",
       " '2013/06',\n",
       " '2013/07',\n",
       " '2013/08',\n",
       " '2013/09',\n",
       " '2013/10',\n",
       " '2013/11',\n",
       " '2013/12',\n",
       " '2014/01',\n",
       " '2014/02',\n",
       " '2014/03',\n",
       " '2014/04',\n",
       " '2014/05',\n",
       " '2014/06',\n",
       " '2014/07',\n",
       " '2014/08',\n",
       " '2014/09',\n",
       " '2014/10',\n",
       " '2014/11',\n",
       " '2014/12',\n",
       " '2015/01',\n",
       " '2015/02',\n",
       " '2015/03',\n",
       " '2015/04',\n",
       " '2015/05',\n",
       " '2015/06',\n",
       " '2015/07',\n",
       " '2015/08',\n",
       " '2015/09',\n",
       " '2015/10',\n",
       " '2015/11',\n",
       " '2015/12',\n",
       " '2016/01',\n",
       " '2016/02',\n",
       " '2016/03',\n",
       " '2016/04',\n",
       " '2016/05',\n",
       " '2016/06',\n",
       " '2016/07',\n",
       " '2016/08',\n",
       " '2016/09',\n",
       " '2016/10',\n",
       " '2016/11',\n",
       " '2016/12',\n",
       " '2017/01',\n",
       " '2017/02',\n",
       " '2017/03',\n",
       " '2017/04',\n",
       " '2017/05',\n",
       " '2017/06',\n",
       " '2017/07',\n",
       " '2017/08',\n",
       " '2017/09',\n",
       " '2017/10',\n",
       " '2017/11',\n",
       " '2017/12',\n",
       " '2018/01',\n",
       " '2018/02',\n",
       " '2018/03',\n",
       " '2018/04',\n",
       " '2018/05',\n",
       " '2018/06']"
      ]
     },
     "execution_count": 29,
     "metadata": {},
     "output_type": "execute_result"
    }
   ],
   "source": [
    "sorted_yearmonthwiseTweets"
   ]
  },
  {
   "cell_type": "code",
   "execution_count": 36,
   "metadata": {},
   "outputs": [
    {
     "data": {
      "image/png": "[encoded data removed]",
      "text/plain": [
       "<matplotlib.figure.Figure at 0x7f6d98385e80>"
      ]
     },
     "metadata": {},
     "output_type": "display_data"
    }
   ],
   "source": [
    "%matplotlib inline\n",
    "plt.style.use('ggplot')\n",
    "plt.figure(figsize=(15,5))\n",
    "#fig, ax = plt.subplots()\n",
    "\n",
    "# Plot the data as a red line with round markers\n",
    "#ax = plt.axes()\n",
    "#ax.xaxis.set_major_locator(ticker.MultipleLocator(2))\n",
    "\n",
    "plt.xlabel('Month and Year')\n",
    "plt.ylabel('Number of tweets by IRA (in million)')\n",
    "plt.xticks(rotation='vertical')\n",
    "#for label in ax.get_xaxis().get_ticklabels()[::2]:\n",
    " #   label.set_visible(False)\n",
    "#graph.set_xticks(sorted_yearmonthwiseTweets)\n",
    "#ax.set_xticklabels(sorted_yearmonthwiseTweets,rotation=90)\n",
    "\n",
    "plt.plot(sorted_yearmonthwiseTweets[50:], monthly_tweetFrequency_plot[50:], 'r-o', markersize=3) # ,'r-o')\n",
    "\n",
    "#fig.autofmt_xdate()\n",
    "plt.savefig(\"MonthlyTweet_VS_Time_FULL.png\", bbox_inches = \"tight\")\n",
    "plt.show()\n"
   ]
  }
 ],
 "metadata": {
  "kernelspec": {
   "display_name": "Python 3",
   "language": "python",
   "name": "python3"
  },
  "language_info": {
   "codemirror_mode": {
    "name": "ipython",
    "version": 3
   },
   "file_extension": ".py",
   "mimetype": "text/x-python",
   "name": "python",
   "nbconvert_exporter": "python",
   "pygments_lexer": "ipython3",
   "version": "3.6.3"
  }
 },
 "nbformat": 4,
 "nbformat_minor": 2
}
